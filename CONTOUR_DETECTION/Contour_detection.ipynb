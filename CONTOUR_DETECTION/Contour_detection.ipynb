{
 "cells": [
  {
   "cell_type": "code",
   "execution_count": null,
   "id": "984b6210",
   "metadata": {},
   "outputs": [],
   "source": [
    "import cv2\n",
    "import numpy as np\n",
    "\n",
    "def sort_contours(contours, method=\"area\"):\n",
    "  \"\"\"\n",
    "  Sorts contours according to their area.\n",
    "\n",
    "  Args:\n",
    "    contours: A list of contours.\n",
    "    method: The method to use for sorting. Can be \"area\" or \"length\".\n",
    "\n",
    "  Returns:\n",
    "    A list of sorted contours.\n",
    "  \"\"\"\n",
    "\n",
    "  if method == \"area\":\n",
    "    return sorted(contours, key=cv2.contourArea, reverse=True)\n",
    "  elif method == \"length\":\n",
    "    return sorted(contours, key=cv2.arcLength, reverse=True)\n",
    "  else:\n",
    "    raise ValueError(\"Invalid method: {}\".format(method))\n",
    "\n",
    "def main():\n",
    "  # Load the image\n",
    "  image = cv2.imread(\"contour.jpg\")\n",
    "\n",
    "  # Convert the image to grayscale\n",
    "  gray = cv2.cvtColor(image, cv2.COLOR_BGR2GRAY)\n",
    "\n",
    "  # Apply Otsu's thresholding\n",
    "  thresh = cv2.threshold(gray, 0, 255, cv2.THRESH_BINARY_INV | cv2.THRESH_OTSU)[1]\n",
    "\n",
    "  # Find contours in the thresholded image\n",
    "  contours, hierarchy = cv2.findContours(thresh, cv2.RETR_TREE, cv2.CHAIN_APPROX_SIMPLE)\n",
    "\n",
    "  # Sort the contours\n",
    "  contours = sort_contours(contours)\n",
    "\n",
    "  # Draw the largest contour on the original image\n",
    "  largest_contour = contours[0]\n",
    "  cv2.drawContours(image, [largest_contour], 0, (0, 255, 0), 2)\n",
    "\n",
    "  # Display the image\n",
    "  cv2.imshow(\"Image\", image)\n",
    "  cv2.waitKey(0)\n",
    "\n",
    "if __name__ == \"__main__\":\n",
    "  main()\n"
   ]
  },
  {
   "cell_type": "code",
   "execution_count": null,
   "id": "deb063bb",
   "metadata": {},
   "outputs": [],
   "source": []
  }
 ],
 "metadata": {
  "kernelspec": {
   "display_name": "Python 3 (ipykernel)",
   "language": "python",
   "name": "python3"
  },
  "language_info": {
   "codemirror_mode": {
    "name": "ipython",
    "version": 3
   },
   "file_extension": ".py",
   "mimetype": "text/x-python",
   "name": "python",
   "nbconvert_exporter": "python",
   "pygments_lexer": "ipython3",
   "version": "3.10.9"
  }
 },
 "nbformat": 4,
 "nbformat_minor": 5
}
