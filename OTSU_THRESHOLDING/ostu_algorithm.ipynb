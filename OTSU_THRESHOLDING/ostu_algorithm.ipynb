{
 "cells": [
  {
   "cell_type": "code",
   "execution_count": 5,
   "id": "afde848d",
   "metadata": {},
   "outputs": [],
   "source": [
    "\n",
    "# Python program to illustrate\n",
    "# Otsu thresholding type on an image\n",
    "  \n",
    "# organizing imports\n",
    "import cv2         \n",
    "import numpy as np    \n",
    "  \n",
    "# path to input image is specified and\n",
    "# image is loaded with imread command\n",
    "image1 = cv2.imread('input.png')\n",
    "  \n",
    "# cv2.cvtColor is applied over the\n",
    "# image input with applied parameters\n",
    "# to convert the image in grayscale\n",
    "img = cv2.cvtColor(image1, cv2.COLOR_BGR2GRAY)\n",
    "  \n",
    "# applying Otsu thresholding\n",
    "# as an extra flag in binary \n",
    "# thresholding     \n",
    "ret, thresh1 = cv2.threshold(img, 0, 255, cv2.THRESH_BINARY + \n",
    "                                            cv2.THRESH_OTSU)     \n",
    "  \n",
    "# the window showing output image         \n",
    "# with the corresponding thresholding         \n",
    "# techniques applied to the input image    \n",
    "cv2.imshow('Otsu Threshold', thresh1)         \n",
    "       \n",
    "# De-allocate any associated memory usage         \n",
    "if cv2.waitKey(0) & 0xff == 27:\n",
    "    cv2.destroyAllWindows()"
   ]
  },
  {
   "cell_type": "code",
   "execution_count": 2,
   "id": "f7863948",
   "metadata": {},
   "outputs": [
    {
     "name": "stdout",
     "output_type": "stream",
     "text": [
      "Collecting opencv-python\n",
      "  Downloading opencv_python-4.7.0.72-cp37-abi3-win_amd64.whl (38.2 MB)\n",
      "     -------------------------------------- 38.2/38.2 MB 339.8 kB/s eta 0:00:00\n",
      "Requirement already satisfied: numpy>=1.17.3 in c:\\users\\student\\anaconda3\\lib\\site-packages (from opencv-python) (1.23.5)\n",
      "Installing collected packages: opencv-python\n",
      "Successfully installed opencv-python-4.7.0.72\n"
     ]
    }
   ],
   "source": [
    "!pip install opencv-python"
   ]
  },
  {
   "cell_type": "code",
   "execution_count": null,
   "id": "05fb1425",
   "metadata": {},
   "outputs": [],
   "source": []
  }
 ],
 "metadata": {
  "kernelspec": {
   "display_name": "Python 3 (ipykernel)",
   "language": "python",
   "name": "python3"
  },
  "language_info": {
   "codemirror_mode": {
    "name": "ipython",
    "version": 3
   },
   "file_extension": ".py",
   "mimetype": "text/x-python",
   "name": "python",
   "nbconvert_exporter": "python",
   "pygments_lexer": "ipython3",
   "version": "3.10.9"
  }
 },
 "nbformat": 4,
 "nbformat_minor": 5
}
